{
 "cells": [
  {
   "cell_type": "markdown",
   "metadata": {},
   "source": [
    "# Cars' MPG prediction using Linear regression"
   ]
  },
  {
   "cell_type": "markdown",
   "metadata": {},
   "source": [
    "Welcome to this ipython notebook created for exploration and analysis of the Auto- MPG data-set from UCI Machine Learning Library. The data-set can be accessed separately from the UCI Machine Learning Repository along with many other interesting data-sets. Check http://archive.ics.uci.edu/ml/index.php for more."
   ]
  },
  {
   "cell_type": "markdown",
   "metadata": {},
   "source": [
    "This notebook aims primarily to demonstrate the use of pandas and seaborn for exploration and visualization of the dataset along with the use of scikit learn library to build regression models to predict the Miles Per Gallon(MPG) using the factors provided in the dataset"
   ]
  },
  {
   "cell_type": "markdown",
   "metadata": {},
   "source": [
    "# So what is the auto-mpg data set?"
   ]
  },
  {
   "cell_type": "markdown",
   "metadata": {},
   "source": [
    "The following description can be found on the UCI Repository page for the data-set  (http://archive.ics.uci.edu/ml/datasets/Auto+MPG)"
   ]
  },
  {
   "cell_type": "markdown",
   "metadata": {},
   "source": [
    "This dataset is a slightly modified version of the dataset provided in the StatLib library. In line with the use by Ross Quinlan (1993) in predicting the attribute \"mpg\", 8 of the original instances were removed because they had unknown values for the \"mpg\" attribute. The original dataset is available in the file \"auto-mpg.data-original\"."
   ]
  },
  {
   "cell_type": "markdown",
   "metadata": {},
   "source": [
    "The data concerns city-cycle fuel consumption in miles per gallon, to be predicted in terms of 8 attributes. There are total 393 number of instances."
   ]
  },
  {
   "cell_type": "markdown",
   "metadata": {},
   "source": [
    "Attribute Information:\n",
    "\n",
    "a. mpg\n",
    "\n",
    "b. cylinders\n",
    "\n",
    "c. displacement\n",
    "\n",
    "d. horsepower\n",
    "\n",
    "e. weight\n",
    "\n",
    "f. acceleration\n",
    "\n",
    "g. model year\n",
    "\n",
    "h. origin\n",
    "\n",
    "i. car name"
   ]
  },
  {
   "cell_type": "markdown",
   "metadata": {},
   "source": [
    "# Part 1. Import necessary modules"
   ]
  },
  {
   "cell_type": "markdown",
   "metadata": {},
   "source": [
    "First we import the required library and import the data from files. Store the data into a dataframe and explore it."
   ]
  },
  {
   "cell_type": "code",
   "execution_count": null,
   "metadata": {},
   "outputs": [],
   "source": [
    "# pandas package will help a lot to process and import/export data\n",
    "import _____ as pd\n",
    "\n",
    "# seaborn and matplotlib package that will be used to plot\n",
    "import _____ as sns\n",
    "import _____ as plt\n",
    "\n",
    "# sklearn is the library that contains regression model\n",
    "# we use sklearn to build our linear regression model to predict the MPG\n",
    "from sklearn.linear_model import _____\n",
    "from sklearn.model_selection import _____"
   ]
  },
  {
   "cell_type": "markdown",
   "metadata": {},
   "source": [
    "We have imported all the packages and libraries we will be using for the initial exploration of data. This notebook will be split into two major sections, majorly:"
   ]
  },
  {
   "cell_type": "markdown",
   "metadata": {},
   "source": [
    "1. Exploration and Visualization using pandas and seaborn packages"
   ]
  },
  {
   "cell_type": "markdown",
   "metadata": {},
   "source": [
    "2. Building and evaluating the linear regression models using scikit learn package"
   ]
  },
  {
   "cell_type": "markdown",
   "metadata": {},
   "source": [
    "# Part 2. Import the data"
   ]
  },
  {
   "cell_type": "markdown",
   "metadata": {},
   "source": [
    "In order to begin this exciting journey into the unchartered lands of the auto-mpg data set, we first need to know the location of this unexplored land. For our dataset, this location is 'auto-mpg.csv'. So let's tell python to take us to this place. Since we are the first explorers here, we will call this place data..because we like data.."
   ]
  },
  {
   "cell_type": "code",
   "execution_count": null,
   "metadata": {},
   "outputs": [],
   "source": [
    "# import data from the \"auto-mpg.csv\" file and set car name column as the index\n",
    "_____ = pd.read_csv('_____', index_col = '_____')\n",
    "\n",
    "# check out the first 10 rows of the dataset\n",
    "data._____(10)"
   ]
  },
  {
   "cell_type": "markdown",
   "metadata": {},
   "source": [
    "# Part 3. Visualization using seaborn packages"
   ]
  },
  {
   "cell_type": "markdown",
   "metadata": {},
   "source": [
    "After imported the data. Let's do a couple of visualization to check out some insight from the data."
   ]
  },
  {
   "cell_type": "markdown",
   "metadata": {},
   "source": [
    "# Let's look at mpg"
   ]
  },
  {
   "cell_type": "code",
   "execution_count": null,
   "metadata": {
    "scrolled": false
   },
   "outputs": [],
   "source": [
    "# plot a distribution plot of mpg\n",
    "sns.distplot(_____)"
   ]
  },
  {
   "cell_type": "markdown",
   "metadata": {},
   "source": [
    "From the plot, we can see the range of mpg is between roughly 8 to 45"
   ]
  },
  {
   "cell_type": "markdown",
   "metadata": {},
   "source": [
    "# Next we look at model year and origin"
   ]
  },
  {
   "cell_type": "markdown",
   "metadata": {},
   "source": [
    "Next, we take a look at which year has the highest number of the car models."
   ]
  },
  {
   "cell_type": "code",
   "execution_count": null,
   "metadata": {},
   "outputs": [],
   "source": [
    "# count the number of car models of every year\n",
    "sns.countplot(_____)"
   ]
  },
  {
   "cell_type": "markdown",
   "metadata": {},
   "source": [
    "From the plot, we can see the maximum number of car model are from the year 1973 and the minumum number of car model is from the year 1974."
   ]
  },
  {
   "cell_type": "markdown",
   "metadata": {},
   "source": [
    "Then, we take a look at which origin has the highest number of car model."
   ]
  },
  {
   "cell_type": "code",
   "execution_count": null,
   "metadata": {},
   "outputs": [],
   "source": [
    "# count the number of car models of every origin\n",
    "sns._____(_____)"
   ]
  },
  {
   "cell_type": "markdown",
   "metadata": {},
   "source": [
    "From the plot, we can see most of the car are from origin 1."
   ]
  },
  {
   "cell_type": "markdown",
   "metadata": {},
   "source": [
    "Here we will show some statistics about the data which include the histogram of each feature and the correlation between each pair of variables."
   ]
  },
  {
   "cell_type": "markdown",
   "metadata": {},
   "source": [
    "# Our journey so far:"
   ]
  },
  {
   "cell_type": "markdown",
   "metadata": {},
   "source": [
    "So far, we have looked at our data using various pandas methods and visualized it using the seaborn package."
   ]
  },
  {
   "cell_type": "markdown",
   "metadata": {},
   "source": [
    "# Let's look at regression model:"
   ]
  },
  {
   "cell_type": "markdown",
   "metadata": {},
   "source": [
    "Now that we know what our data looks like, let's use the machine learning model to predict the value of MPG given the values of the factors. We will use pythons scikit learn to train test regression models on our data and compare the results. We shall use the following regression models: Linear Regression"
   ]
  },
  {
   "cell_type": "code",
   "execution_count": null,
   "metadata": {},
   "outputs": [],
   "source": [
    "# check out the data set again\n",
    "data.head()"
   ]
  },
  {
   "cell_type": "markdown",
   "metadata": {},
   "source": [
    "# Part 4. Build the linear regression model"
   ]
  },
  {
   "cell_type": "markdown",
   "metadata": {},
   "source": [
    "We identify X as our features to predict the mpg, y as the variable we want to predict. In this case, we are going to use the cylinders, displacement, horsepower, weight, acceleration, model year and origin columns to predict the mpg, so those columns are X, and mpg is y."
   ]
  },
  {
   "cell_type": "markdown",
   "metadata": {},
   "source": [
    "We split the whole data into the test and train set. We use 70% of the data to build the model and 30% of the data to test the accuracy of our model."
   ]
  },
  {
   "cell_type": "code",
   "execution_count": null,
   "metadata": {},
   "outputs": [],
   "source": [
    "# identify our feature array X as the columns without mpg and our response variable y as the mpg columns\n",
    "X = data.drop(columns= ['_____']).values\n",
    "y = data['_____'].values"
   ]
  },
  {
   "cell_type": "code",
   "execution_count": null,
   "metadata": {},
   "outputs": [],
   "source": [
    "# split 70% of the dataset into training set, and  30% of the dataset into  testing set\n",
    "_____, _____, _____, _____ = train_test_split(X, y, test_size=0.3)"
   ]
  },
  {
   "cell_type": "code",
   "execution_count": null,
   "metadata": {},
   "outputs": [],
   "source": [
    "# initialize a linear regression model, and fit the linear model using training set, and create the model\n",
    "model = _____\n",
    "model.fit(_____, _____)"
   ]
  },
  {
   "cell_type": "code",
   "execution_count": null,
   "metadata": {},
   "outputs": [],
   "source": [
    "# use our testsing set try to predict the MPG of the cars\n",
    "y_pred = model._____(_____)"
   ]
  },
  {
   "cell_type": "markdown",
   "metadata": {},
   "source": [
    "With three lines of code, we built the linear regression model called \"model\", and we made a prediction from the testing set."
   ]
  },
  {
   "cell_type": "markdown",
   "metadata": {},
   "source": [
    "# Part 5. Visualize the prediction"
   ]
  },
  {
   "cell_type": "code",
   "execution_count": null,
   "metadata": {},
   "outputs": [],
   "source": [
    "# plot the true value and predicted value of mpg on the drawing board figure\n",
    "plt._____(_____, color='blue', label='True value')\n",
    "plt._____(_____, color='red', label='Predict value')\n",
    "\n",
    "# mark a legend on the graph\n",
    "plt._____"
   ]
  },
  {
   "cell_type": "markdown",
   "metadata": {},
   "source": [
    "We can see from the plot that our model did a pretty good job of predicting the mpg of cars."
   ]
  },
  {
   "cell_type": "markdown",
   "metadata": {},
   "source": [
    "#  Top 5 highest mpg cars"
   ]
  },
  {
   "cell_type": "code",
   "execution_count": null,
   "metadata": {},
   "outputs": [],
   "source": [
    "# first sort our data by mpg from high to low\n",
    "data = data.sort_values(by=['mpg'], ascending=False)\n",
    "# check out our data again after sorted\n",
    "data.head()"
   ]
  },
  {
   "cell_type": "code",
   "execution_count": null,
   "metadata": {},
   "outputs": [],
   "source": [
    "# polt a bar plot of our top 5 highest mpg cars\n",
    "sns.barplot(data['mpg'][0:5],data.index[0:5])\n",
    "# show plot\n",
    "plt.show()"
   ]
  },
  {
   "cell_type": "markdown",
   "metadata": {},
   "source": [
    "# Plot a pie chart"
   ]
  },
  {
   "cell_type": "markdown",
   "metadata": {},
   "source": [
    "Which origin has the highest number of car model?"
   ]
  },
  {
   "cell_type": "code",
   "execution_count": null,
   "metadata": {},
   "outputs": [],
   "source": [
    "# count the number of model for different origins.\n",
    "data.origin.value_counts()"
   ]
  },
  {
   "cell_type": "code",
   "execution_count": null,
   "metadata": {},
   "outputs": [],
   "source": [
    "# set the labels and sizes for our pie chart\n",
    "labels = '1', '3', '2'\n",
    "sizes = [246, 79, 68]\n",
    "\n",
    "# plot the pie chart of the origins\n",
    "plt.pie(sizes, labels=labels)\n",
    "#show plot\n",
    "plt.show()"
   ]
  },
  {
   "cell_type": "markdown",
   "metadata": {},
   "source": [
    "# Plot a correlation matrix"
   ]
  },
  {
   "cell_type": "markdown",
   "metadata": {},
   "source": [
    "Check the correlation relationship between every attribute."
   ]
  },
  {
   "cell_type": "code",
   "execution_count": null,
   "metadata": {},
   "outputs": [],
   "source": [
    "#plot a correlation matrix \n",
    "corrmat = data.corr()\n",
    "sns.heatmap(corrmat)\n",
    "#show plot\n",
    "plt.show()"
   ]
  },
  {
   "cell_type": "markdown",
   "metadata": {},
   "source": [
    "# Plot a histogram and a scatter plot"
   ]
  },
  {
   "cell_type": "markdown",
   "metadata": {},
   "source": [
    "Show the correlation relationship between every attributes by scatter plots and distribution of every attributes by historgam."
   ]
  },
  {
   "cell_type": "code",
   "execution_count": null,
   "metadata": {},
   "outputs": [],
   "source": [
    "# plot the histogram as well as the scatter plot\n",
    "sns.pairplot(data, hue = 'origin')\n",
    "#show plot\n",
    "plt.show()"
   ]
  },
  {
   "cell_type": "markdown",
   "metadata": {},
   "source": [
    "# Plot a radar chart"
   ]
  },
  {
   "cell_type": "code",
   "execution_count": null,
   "metadata": {},
   "outputs": [],
   "source": [
    "import numpy as np\n",
    "\n",
    "# each attribute we'll plot in the radar chart.\n",
    "labels = ['mpg', 'displacement', 'horsepower', 'weight', 'acceleration']\n",
    "\n",
    "# let's look at the 1970 Chevy Impala and plot it.\n",
    "values = [16,400,230,4278,9.5]\n",
    "\n",
    "# number of variables we're plotting.\n",
    "num_vars = len(labels)\n",
    "\n",
    "# split the circle into even parts and save the angles\n",
    "# so we know where to put each axis.\n",
    "angles = np.linspace(0, 2 * np.pi, num_vars, endpoint=False).tolist()\n",
    "\n",
    "# the plot is a circle, so we need to \"complete the loop\"\n",
    "# and append the start value to the end.\n",
    "values += values[:1]\n",
    "angles += angles[:1]\n",
    "\n",
    "# ax = plt.subplot(polar=True)\n",
    "fig, ax = plt.subplots(figsize=(6, 6), subplot_kw=dict(polar=True))\n",
    "\n",
    "# draw the outline of our data.\n",
    "ax.plot(angles, values, linewidth=1)\n",
    "# fill it in.\n",
    "ax.fill(angles, values, alpha=0.25)\n",
    "\n",
    "# fix axis to go in the right order and start at 12 o'clock.\n",
    "ax.set_theta_offset(np.pi / 2)\n",
    "ax.set_theta_direction(-1)\n",
    "\n",
    "# draw axis lines for each angle and label.\n",
    "ax.set_thetagrids(np.degrees(angles), labels)\n",
    "\n",
    "# go through labels and adjust alignment based on where\n",
    "# it is in the circle.\n",
    "for label, angle in zip(ax.get_xticklabels(), angles):\n",
    "  if angle in (0, np.pi):\n",
    "    label.set_horizontalalignment('center')\n",
    "  elif 0 < angle < np.pi:\n",
    "    label.set_horizontalalignment('left')\n",
    "  else:\n",
    "    label.set_horizontalalignment('right')\n",
    "\n",
    "# ensure radar goes from 0 to 100.\n",
    "ax.set_ylim(0, 100)\n",
    "# you can also set gridlines manually like this:\n",
    "# ax.set_rgrids([20, 40, 60, 80, 100])\n",
    "\n",
    "# set position of y-labels (0-100) to be in the middle\n",
    "# of the first two axes.\n",
    "ax.set_rlabel_position(180 / num_vars)"
   ]
  }
 ],
 "metadata": {
  "kernelspec": {
   "display_name": "Python 3",
   "language": "python",
   "name": "python3"
  },
  "language_info": {
   "codemirror_mode": {
    "name": "ipython",
    "version": 3
   },
   "file_extension": ".py",
   "mimetype": "text/x-python",
   "name": "python",
   "nbconvert_exporter": "python",
   "pygments_lexer": "ipython3",
   "version": "3.7.3"
  }
 },
 "nbformat": 4,
 "nbformat_minor": 2
}
